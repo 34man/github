{
 "cells": [
  {
   "cell_type": "markdown",
   "id": "7582c88c",
   "metadata": {},
   "source": [
    "77. 组合\n",
    "给定两个整数 n 和 k，返回范围 [1, n] 中所有可能的 k 个数的组合。\n",
    "你可以按 任何顺序 返回答案。\n",
    "示例 1：\n",
    "\n",
    "输入：n = 4, k = 2\n",
    "输出：\n",
    "[\n",
    "  [2,4],\n",
    "  [3,4],\n",
    "  [2,3],\n",
    "  [1,2],\n",
    "  [1,3],\n",
    "  [1,4],\n",
    "]\n",
    "示例 2：\n",
    "\n",
    "输入：n = 1, k = 1\n",
    "输出：[[1]]\n",
    " \n",
    "\n",
    "提示：\n",
    "\n",
    "1 <= n <= 20\n",
    "1 <= k <= n"
   ]
  },
  {
   "cell_type": "code",
   "execution_count": 2,
   "id": "efbed441",
   "metadata": {},
   "outputs": [
    {
     "data": {
      "text/plain": [
       "[[2, 4], [2, 3], [1, 3], [1, 2], [1, 4], [1, 3], [1, 2]]"
      ]
     },
     "execution_count": 2,
     "metadata": {},
     "output_type": "execute_result"
    }
   ],
   "source": [
    "class Solution:\n",
    "    def combine(self, n: int, k: int):\n",
    "        res = []\n",
    "        def cal(k, temp):\n",
    "            if k == 0:\n",
    "                res.append(temp) \n",
    "            else:\n",
    "                pass\n",
    "        cal(n, k)\n",
    "        return res\n",
    "s = Solution()\n",
    "s.combine(4, 2)"
   ]
  },
  {
   "cell_type": "markdown",
   "id": "e8843bbf",
   "metadata": {},
   "source": [
    "## 78. 子集\n",
    "给你一个整数数组 nums ，数组中的元素 互不相同 。返回该数组所有可能的子集（幂集）。解集 不能 包含重复的子集。你可以按 任意顺序 返回解集。\n",
    "\n",
    " \n",
    "\n",
    "### 示例 1：\n",
    "\n",
    "> 输入：nums = [1,2,3]  \n",
    "输出：[[],[1],[2],[1,2],[3],[1,3],[2,3],[1,2,3]]  \n",
    "### 示例 2：\n",
    "\n",
    "> 输入：nums = [0]  \n",
    "输出：[[],[0]]\n",
    " \n",
    "\n",
    "### 提示：\n",
    "\n",
    "+ 1 <= nums.length <= 10\n",
    "+ -10 <= nums[i] <= 10\n",
    "+ nums 中的所有元素 互不相同"
   ]
  },
  {
   "cell_type": "code",
   "execution_count": null,
   "id": "6e8872b8",
   "metadata": {},
   "outputs": [],
   "source": []
  },
  {
   "cell_type": "markdown",
   "id": "17a51045",
   "metadata": {},
   "source": [
    "## 递归实现  72%  38%\n",
    "1. 开始为空集，\n",
    "2. 递归每一个元素，\n",
    "3. 复制输出数组，\n",
    "4. 将新元素添加到数组中，\n",
    "1. 把两个数组合并\n"
   ]
  },
  {
   "cell_type": "code",
   "execution_count": 12,
   "id": "f31df144",
   "metadata": {},
   "outputs": [],
   "source": [
    "class Solution:\n",
    "    def subsets(self, nums):\n",
    "        ans = [[]]\n",
    "        def add_ele(nums, ans):\n",
    "            if len(nums) == 0:\n",
    "                return \n",
    "            else:\n",
    "                temp = ans.copy()\n",
    "                temp = [[nums[0]]+li for li in temp]\n",
    "                ans += temp\n",
    "                add_ele(nums[1:], ans)\n",
    "        add_ele(nums, ans)\n",
    "        return ans"
   ]
  },
  {
   "cell_type": "code",
   "execution_count": 13,
   "id": "d4a1b2f5",
   "metadata": {},
   "outputs": [
    {
     "data": {
      "text/plain": [
       "[[], [3]]"
      ]
     },
     "execution_count": 13,
     "metadata": {},
     "output_type": "execute_result"
    }
   ],
   "source": [
    "s = Solution()\n",
    "s.subsets([3])"
   ]
  },
  {
   "cell_type": "markdown",
   "id": "687f6b88",
   "metadata": {},
   "source": [
    "## 简洁迭代实现 97% 69%"
   ]
  },
  {
   "cell_type": "code",
   "execution_count": 16,
   "id": "58be7252",
   "metadata": {},
   "outputs": [],
   "source": [
    "class Solution:\n",
    "    def subsets(self, nums):\n",
    "        ans = [[]]\n",
    "        for i in nums:\n",
    "            ans += [[i] + ele for ele in ans]\n",
    "        return ans"
   ]
  },
  {
   "cell_type": "code",
   "execution_count": 17,
   "id": "f0d51541",
   "metadata": {},
   "outputs": [
    {
     "data": {
      "text/plain": [
       "[[], [3]]"
      ]
     },
     "execution_count": 17,
     "metadata": {},
     "output_type": "execute_result"
    }
   ],
   "source": [
    "s = Solution()\n",
    "s.subsets([3])"
   ]
  },
  {
   "cell_type": "markdown",
   "id": "62de7068",
   "metadata": {},
   "source": [
    "## 回溯法实现 90% 44%"
   ]
  },
  {
   "cell_type": "code",
   "execution_count": 28,
   "id": "9b8f1011",
   "metadata": {},
   "outputs": [],
   "source": [
    "class Solution:\n",
    "    def subsets(self, nums):\n",
    "        ans = []\n",
    "        def helper(step, temp):\n",
    "            ans.append(temp)\n",
    "            for i in range(step, len(nums)):\n",
    "                helper(i+1, temp+[nums[i]])\n",
    "        helper(0, [])\n",
    "        return ans\n",
    "            "
   ]
  },
  {
   "cell_type": "code",
   "execution_count": 29,
   "id": "ec750c42",
   "metadata": {},
   "outputs": [
    {
     "data": {
      "text/plain": [
       "[[], [3]]"
      ]
     },
     "execution_count": 29,
     "metadata": {},
     "output_type": "execute_result"
    }
   ],
   "source": [
    "s = Solution()\n",
    "s.subsets([3])"
   ]
  },
  {
   "cell_type": "markdown",
   "id": "7ccbacb9",
   "metadata": {},
   "source": [
    "# 79单词搜索\n",
    "给定一个 m x n 二维字符网格 board 和一个字符串单词 word 。如果 word 存在于网格中，返回 true ；否则，返回 false 。\n",
    "\n",
    "单词必须按照字母顺序，通过相邻的单元格内的字母构成，其中“相邻”单元格是那些水平相邻或垂直相邻的单元格。同一个单元格内的字母不允许被重复使用。\n",
    "\n"
   ]
  },
  {
   "cell_type": "code",
   "execution_count": 42,
   "id": "fe58b264",
   "metadata": {},
   "outputs": [],
   "source": [
    "class Solution:\n",
    "    def exist(self, board, word):\n",
    "        step = [(0, 1), (0, -1), (1, 0), (-1, 0)]\n",
    "        def help(ans, cur_x, cur_y):\n",
    "            if ans == len(word)-1:\n",
    "                return True\n",
    "            if word[ans] != board[cur_x][cur_y]:\n",
    "                return False\n",
    "            \n",
    "            visited.add((cur_x, cur_y))\n",
    "            result = False\n",
    "            for first_step, second_step in step:\n",
    "                new_x = cur_x + first_step\n",
    "                new_y = cur_y + second_step\n",
    "\n",
    "                if new_x >= 0 and new_x < height and new_y >= 0 and new_y < width:\n",
    "                    if (new_x, new_y) not in visited:\n",
    "                        if help(ans+1, new_x, new_y):\n",
    "                            result = True\n",
    "                        \n",
    "            visited.remove((cur_x, cur_y))\n",
    "            return result\n",
    "                    \n",
    "        visited = set()\n",
    "         # 表示word的第几个字母\n",
    "        width, height = len(board[0]), len(board)\n",
    "        cur_x, cur_y = 0, 0\n",
    "        for i in range(height):\n",
    "            for j in range(width):\n",
    "                if help(0, i, j):\n",
    "                    return True\n",
    "        return False\n"
   ]
  },
  {
   "cell_type": "code",
   "execution_count": 47,
   "id": "5684b4a7",
   "metadata": {},
   "outputs": [
    {
     "data": {
      "text/plain": [
       "True"
      ]
     },
     "execution_count": 47,
     "metadata": {},
     "output_type": "execute_result"
    }
   ],
   "source": [
    "s = Solution()\n",
    "s.exist([[\"A\",\"B\",\"C\",\"E\"],[\"S\",\"F\",\"C\",\"S\"],[\"A\",\"D\",\"E\",\"E\"]], \"ABCB\")"
   ]
  },
  {
   "cell_type": "code",
   "execution_count": 46,
   "id": "b91acb04",
   "metadata": {},
   "outputs": [
    {
     "data": {
      "text/plain": [
       "'ABCB'"
      ]
     },
     "execution_count": 46,
     "metadata": {},
     "output_type": "execute_result"
    }
   ],
   "source": [
    "[[\"A\",\"B\",\"C\",\"E\"],[\"S\",\"F\",\"C\",\"S\"],[\"A\",\"D\",\"E\",\"E\"]]\n",
    "\"ABCB\"\n"
   ]
  },
  {
   "cell_type": "code",
   "execution_count": null,
   "id": "00e95820",
   "metadata": {},
   "outputs": [],
   "source": [
    "abce\n",
    "sfcs\n",
    "adee"
   ]
  },
  {
   "cell_type": "markdown",
   "source": [],
   "metadata": {
    "collapsed": false,
    "pycharm": {
     "name": "#%% md\n"
    }
   }
  }
 ],
 "metadata": {
  "kernelspec": {
   "display_name": "Python 3 (ipykernel)",
   "language": "python",
   "name": "python3"
  },
  "language_info": {
   "codemirror_mode": {
    "name": "ipython",
    "version": 3
   },
   "file_extension": ".py",
   "mimetype": "text/x-python",
   "name": "python",
   "nbconvert_exporter": "python",
   "pygments_lexer": "ipython3",
   "version": "3.8.10"
  }
 },
 "nbformat": 4,
 "nbformat_minor": 5
}