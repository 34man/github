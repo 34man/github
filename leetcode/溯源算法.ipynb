{
 "cells": [
  {
   "cell_type": "markdown",
   "id": "7582c88c",
   "metadata": {},
   "source": [
    "77. 组合\n",
    "给定两个整数 n 和 k，返回范围 [1, n] 中所有可能的 k 个数的组合。\n",
    "你可以按 任何顺序 返回答案。\n",
    "示例 1：\n",
    "\n",
    "输入：n = 4, k = 2\n",
    "输出：\n",
    "[\n",
    "  [2,4],\n",
    "  [3,4],\n",
    "  [2,3],\n",
    "  [1,2],\n",
    "  [1,3],\n",
    "  [1,4],\n",
    "]\n",
    "示例 2：\n",
    "\n",
    "输入：n = 1, k = 1\n",
    "输出：[[1]]\n",
    " \n",
    "\n",
    "提示：\n",
    "\n",
    "1 <= n <= 20\n",
    "1 <= k <= n"
   ]
  },
  {
   "cell_type": "code",
   "execution_count": 2,
   "id": "efbed441",
   "metadata": {},
   "outputs": [
    {
     "data": {
      "text/plain": [
       "[[2, 4], [2, 3], [1, 3], [1, 2], [1, 4], [1, 3], [1, 2]]"
      ]
     },
     "execution_count": 2,
     "metadata": {},
     "output_type": "execute_result"
    }
   ],
   "source": [
    "class Solution:\n",
    "    def combine(self, n: int, k: int):\n",
    "        res = []\n",
    "        def cal(k, temp):\n",
    "            if k == 0\n",
    "                res.append(temp) \n",
    "            else:\n",
    "                \n",
    "        cal(n, k)\n",
    "        return res\n",
    "s = Solution()\n",
    "s.combine(4, 2)"
   ]
  },
  {
   "cell_type": "code",
   "execution_count": null,
   "id": "b47fdb82",
   "metadata": {},
   "outputs": [],
   "source": []
  }
 ],
 "metadata": {
  "kernelspec": {
   "display_name": "Python 3 (ipykernel)",
   "language": "python",
   "name": "python3"
  },
  "language_info": {
   "codemirror_mode": {
    "name": "ipython",
    "version": 3
   },
   "file_extension": ".py",
   "mimetype": "text/x-python",
   "name": "python",
   "nbconvert_exporter": "python",
   "pygments_lexer": "ipython3",
   "version": "3.8.3"
  }
 },
 "nbformat": 4,
 "nbformat_minor": 5
}
